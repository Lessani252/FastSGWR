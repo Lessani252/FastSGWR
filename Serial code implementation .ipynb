{
 "cells": [
  {
   "cell_type": "code",
   "execution_count": null,
   "id": "25d30d12",
   "metadata": {},
   "outputs": [],
   "source": [
    "Running the model in serial model using adaptive bisquare "
   ]
  },
  {
   "cell_type": "code",
   "execution_count": 38,
   "id": "76f4bf91",
   "metadata": {},
   "outputs": [
    {
     "name": "stdout",
     "output_type": "stream",
     "text": [
      "Bandwidth optimization using golden section based on AICc values...\n",
      "BW: 1116.000 >>> AICc Score: 6461.938\n",
      "BW: 1775.000 >>> AICc Score: 6623.366\n",
      "BW: 709.000 >>> AICc Score: 6351.015\n",
      "BW: 457.000 >>> AICc Score: 6253.635\n",
      "BW: 302.000 >>> AICc Score: 6163.870\n",
      "BW: 205.000 >>> AICc Score: 5812.680\n",
      "BW: 146.000 >>> AICc Score: 5596.470\n",
      "BW: 109.000 >>> AICc Score: 5551.445\n",
      "BW: 87.000 >>> AICc Score: 5397.173\n",
      "BW: 73.000 >>> AICc Score: 5440.707\n",
      "BW: 95.000 >>> AICc Score: 5501.102\n",
      "BW: 81.000 >>> AICc Score: 5407.271\n",
      "BW: 90.000 >>> AICc Score: 5420.926\n",
      "BW: 84.000 >>> AICc Score: 5405.600\n",
      "BW: 88.000 >>> AICc Score: 5400.101\n",
      "BW: 86.000 >>> AICc Score: 5402.001\n",
      "\n",
      "Optimal BW: 87.000\n",
      "\n",
      "Alpha optimization using bandwidth: 87.0\n",
      "\n",
      "Alpha: 0.700 >>> AICc Score: 5263.083\n",
      "Alpha: 0.500 >>> AICc Score: 5153.428\n",
      "Alpha: 0.100 >>> AICc Score: 5220.677\n",
      "Alpha: 0.400 >>> AICc Score: 5090.197\n",
      "Alpha: 0.300 >>> AICc Score: 5023.729\n",
      "Alpha: 0.200 >>> AICc Score: 4978.999\n",
      "\n",
      "Best alpha value (divide and conquer): 0.2\n",
      "Optimized alpha 0.2\n",
      "BW: 87.0\n",
      "R2  0.8745772588564957\n",
      "Adjusted R2:  0.8125453145436736\n",
      "AICc  4978.99875394739\n"
     ]
    }
   ],
   "source": [
    "from sgwr import ALPHA, SGWR, fastsgwr\n",
    "import pandas as pd\n",
    "from sklearn.preprocessing import StandardScaler\n",
    "import numpy as np\n",
    "\n",
    "data = pd.read_csv(r\"\\Crime.csv\")\n",
    "\n",
    "data = np.array(data)\n",
    "\n",
    "x_x = data[0:, 0]  # x coordinate\n",
    "y_y = data[0:, 1]  # y coordiante\n",
    "\n",
    "g_x = data[0:, 3:]\n",
    "g_y = data[0:, 2].reshape(-1, 1)\n",
    "\n",
    "g_x = np.array(g_x, dtype=float)\n",
    "g_y = np.array(g_y, dtype=float)\n",
    "\n",
    "## If you decide to standardize your data. If you don't want to standardize it, just uncommand this part\n",
    "scaler_x = StandardScaler()\n",
    "scaler_y = StandardScaler()\n",
    "g_x = scaler_x.fit_transform(g_x)\n",
    "g_y = scaler_y.fit_transform(g_y)\n",
    "#######\n",
    "\n",
    "x_x = pd.Series(x_x)\n",
    "y_y = pd.Series(y_y)\n",
    "\n",
    "g_coords = np.column_stack((x_x, y_y))\n",
    "\n",
    "data = data[0:, 3:]    \n",
    "data = pd.DataFrame(data)\n",
    "\n",
    "selector = ALPHA(g_coords, g_y, g_x, data)\n",
    "bw, alpha = selector.fit()\n",
    "print('Optimized alpha', alpha)\n",
    "print('BW:', bw)\n",
    "\n",
    "sgwr_model = SGWR(g_coords, g_y, g_x, bw, data, alpha)\n",
    "result = sgwr_model.fit()\n",
    "\n",
    "print('R2 ', result.R2)\n",
    "print('Adjusted R2: ', result.adj_R2)\n",
    "print('AICc ', result.aicc)"
   ]
  },
  {
   "cell_type": "code",
   "execution_count": null,
   "id": "9c6beced",
   "metadata": {},
   "outputs": [],
   "source": []
  },
  {
   "cell_type": "code",
   "execution_count": null,
   "id": "c0be5c61",
   "metadata": {},
   "outputs": [],
   "source": [
    "Running the model in serial model using fixed gaussian kernel"
   ]
  },
  {
   "cell_type": "code",
   "execution_count": 40,
   "id": "f9ba40c1",
   "metadata": {},
   "outputs": [
    {
     "name": "stdout",
     "output_type": "stream",
     "text": [
      "Bandwidth optimization using golden section based on AICc values...\n",
      "BW: 43.258 >>> AICc Score: 7302.231\n",
      "BW: 69.986 >>> AICc Score: 7336.605\n",
      "BW: 26.739 >>> AICc Score: 7222.670\n",
      "BW: 16.529 >>> AICc Score: 7072.016\n",
      "BW: 10.220 >>> AICc Score: 6867.326\n",
      "BW: 6.320 >>> AICc Score: 6554.055\n",
      "BW: 3.910 >>> AICc Score: 6350.290\n",
      "BW: 2.420 >>> AICc Score: 6176.006\n",
      "BW: 1.500 >>> AICc Score: 5977.212\n",
      "BW: 0.931 >>> AICc Score: 5583.038\n",
      "BW: 0.579 >>> AICc Score: 5812.896\n",
      "BW: 1.148 >>> AICc Score: 5839.988\n",
      "BW: 0.796 >>> AICc Score: 5513.583\n",
      "BW: 0.713 >>> AICc Score: 5562.526\n",
      "BW: 0.848 >>> AICc Score: 5517.769\n",
      "BW: 0.765 >>> AICc Score: 5523.877\n",
      "BW: 0.816 >>> AICc Score: 5511.952\n",
      "BW: 0.828 >>> AICc Score: 5512.897\n",
      "BW: 0.808 >>> AICc Score: 5512.128\n",
      "BW: 0.821 >>> AICc Score: 5512.169\n",
      "BW: 0.813 >>> AICc Score: 5511.943\n",
      "BW: 0.811 >>> AICc Score: 5511.987\n",
      "BW: 0.814 >>> AICc Score: 5511.936\n",
      "BW: 0.815 >>> AICc Score: 5511.939\n",
      "BW: 0.814 >>> AICc Score: 5511.936\n",
      "\n",
      "Optimal BW: 0.814\n",
      "\n",
      "Alpha optimization using bandwidth: 0.814\n",
      "\n",
      "Alpha: 0.700 >>> AICc Score: 5362.842\n",
      "Alpha: 0.500 >>> AICc Score: 5237.226\n",
      "Alpha: 0.100 >>> AICc Score: 5365.122\n",
      "Alpha: 0.400 >>> AICc Score: 5161.528\n",
      "Alpha: 0.300 >>> AICc Score: 5079.632\n",
      "Alpha: 0.200 >>> AICc Score: 5026.102\n",
      "\n",
      "Best alpha value (divide and conquer): 0.2\n",
      "Optimized alpha 0.2\n",
      "BW: 0.814\n",
      "R2  0.9162128348084846\n",
      "Adjusted R2:  0.8572038711426877\n",
      "AICc  5025.707765191232\n"
     ]
    }
   ],
   "source": [
    "from sgwr import ALPHA, SGWR, fastsgwr\n",
    "import pandas as pd\n",
    "from sklearn.preprocessing import StandardScaler\n",
    "import numpy as np\n",
    "\n",
    "\n",
    "data = pd.read_csv(r\"\\Crime.csv\")\n",
    "\n",
    "data = np.array(data)\n",
    "\n",
    "x_x = data[0:, 0]  # x coordinate\n",
    "y_y = data[0:, 1]  # y coordiante\n",
    "\n",
    "g_x = data[0:, 3:]\n",
    "g_y = data[0:, 2].reshape(-1, 1)\n",
    "\n",
    "g_x = np.array(g_x, dtype=float)\n",
    "g_y = np.array(g_y, dtype=float)\n",
    "\n",
    "## If you decide to standardize your data. If you don't want to standardize it, just uncommand this part\n",
    "scaler_x = StandardScaler()\n",
    "scaler_y = StandardScaler()\n",
    "g_x = scaler_x.fit_transform(g_x)\n",
    "g_y = scaler_y.fit_transform(g_y)\n",
    "#######\n",
    "\n",
    "x_x = pd.Series(x_x)\n",
    "y_y = pd.Series(y_y)\n",
    "\n",
    "g_coords = np.column_stack((x_x, y_y))\n",
    "\n",
    "data = data[0:, 3:]    \n",
    "data = pd.DataFrame(data)\n",
    "\n",
    "selector = ALPHA(g_coords, g_y, g_x, data, fixed=True, kernel='gaussian')\n",
    "bw, alpha = selector.fit()\n",
    "print('Optimized alpha', alpha)\n",
    "print('BW:', bw)\n",
    "\n",
    "sgwr_model = SGWR(g_coords, g_y, g_x, bw, data, alpha, fixed=True, kernel='gaussian')\n",
    "result = sgwr_model.fit()\n",
    "\n",
    "print('R2 ', result.R2)\n",
    "print('Adjusted R2: ', result.adj_R2)\n",
    "print('AICc ', result.aicc)"
   ]
  },
  {
   "cell_type": "code",
   "execution_count": null,
   "id": "e125ea18",
   "metadata": {},
   "outputs": [],
   "source": []
  },
  {
   "cell_type": "code",
   "execution_count": 41,
   "id": "34736069",
   "metadata": {},
   "outputs": [
    {
     "data": {
      "text/plain": [
       "array([[-1.39774765e-01, -2.81889632e+00,  1.50777886e+00,\n",
       "        -2.37818696e-01,  1.22735389e-01, -2.07965361e-01],\n",
       "       [ 1.28040487e+00,  9.66352239e+00,  3.82996578e+00,\n",
       "        -1.87443754e+00,  1.18229530e+00, -9.84457369e-01],\n",
       "       [-2.88583752e-03, -3.05582176e+00,  2.02391065e+00,\n",
       "        -4.89615929e-01, -2.68660147e-02,  2.07972543e-01],\n",
       "       ...,\n",
       "       [ 7.71672698e-02, -3.67065508e+00,  1.61570837e+00,\n",
       "         1.06981989e+00,  3.34928398e-01, -3.57726092e-01],\n",
       "       [-7.12521247e-02, -1.45671994e+00,  1.12498975e+00,\n",
       "        -1.76630199e-01,  5.71042288e-01,  4.78520092e-02],\n",
       "       [ 1.32038777e-01, -1.77497016e+00,  7.99119276e-01,\n",
       "         1.44264943e+00, -5.63207198e-02, -2.46938243e-02]])"
      ]
     },
     "execution_count": 41,
     "metadata": {},
     "output_type": "execute_result"
    }
   ],
   "source": [
    "## Once the model is fit, you can extract the coef for your data using the below command. \n",
    "result.params"
   ]
  },
  {
   "cell_type": "code",
   "execution_count": 43,
   "id": "0f8695e1",
   "metadata": {},
   "outputs": [
    {
     "name": "stdout",
     "output_type": "stream",
     "text": [
      "===========================================================================\n",
      "Model type                                                         Gaussian\n",
      "Number of observations:                                                2841\n",
      "Number of covariates:                                                     6\n",
      "\n",
      "Global Regression Results\n",
      "---------------------------------------------------------------------------\n",
      "Residual sum of squares:                                           2207.531\n",
      "Log-likelihood:                                                   -3672.838\n",
      "AIC:                                                               7357.677\n",
      "AICc:                                                              7359.717\n",
      "BIC:                                                             -20336.138\n",
      "R2:                                                                   0.223\n",
      "Adj. R2:                                                              0.222\n",
      "\n",
      "Variable                              Est.         SE  t(Est/SE)    p-value\n",
      "------------------------------- ---------- ---------- ---------- ----------\n",
      "X0                                   0.000      0.017      0.000      1.000\n",
      "X1                                  -0.233      0.026     -8.903      0.000\n",
      "X2                                   0.698      0.034     20.397      0.000\n",
      "X3                                  -0.045      0.029     -1.546      0.122\n",
      "X4                                   0.010      0.022      0.431      0.666\n",
      "X5                                  -0.114      0.020     -5.590      0.000\n",
      "\n",
      "Similarity and Geographically Weighted Regression (GWR) Results\n",
      "---------------------------------------------------------------------------\n",
      "Spatial kernel:                                          Fixed gaussian\n",
      "Bandwidth used:                                                       0.814\n",
      "\n",
      "Diagnostic information\n",
      "---------------------------------------------------------------------------\n",
      "Residual sum of squares:                                            238.039\n",
      "Effective number of parameters (trace(S)):                         1173.599\n",
      "Degree of freedom (n - trace(S)):                                  1667.401\n",
      "Sigma estimate:                                                       0.378\n",
      "Log-likelihood:                                                    -509.110\n",
      "AIC:                                                               3367.418\n",
      "AICc:                                                              5025.708\n",
      "BIC:                                                              10358.530\n",
      "R2:                                                                   0.916\n",
      "Adjusted R2:                                                          0.857\n",
      "Adj. alpha (95%):                                                     0.000\n",
      "Adj. critical t value (95%):                                          3.661\n",
      "\n",
      "Summary Statistics For SGWR Parameter Estimates\n",
      "---------------------------------------------------------------------------\n",
      "Variable                   Mean        STD        Min     Median        Max\n",
      "-------------------- ---------- ---------- ---------- ---------- ----------\n",
      "X0                       -0.256      1.268    -28.158     -0.186      8.171\n",
      "X1                       -2.040      5.850    -31.067     -1.434     31.651\n",
      "X2                        1.174      1.245     -3.063      0.951     12.264\n",
      "X3                       -0.633      6.197   -139.413     -0.219     27.445\n",
      "X4                        0.152      0.413     -1.696      0.138      5.349\n",
      "X5                       -0.216      1.465    -16.186     -0.042      7.353\n",
      "===========================================================================\n",
      "\n"
     ]
    }
   ],
   "source": [
    "## summary table of the model \n",
    "print(result.summary())"
   ]
  },
  {
   "cell_type": "code",
   "execution_count": 44,
   "id": "6a1e7993",
   "metadata": {},
   "outputs": [
    {
     "data": {
      "text/plain": [
       "array([[0.9352124 ],\n",
       "       [0.92537379],\n",
       "       [0.9199739 ],\n",
       "       ...,\n",
       "       [0.90930632],\n",
       "       [0.9920958 ],\n",
       "       [0.990704  ]])"
      ]
     },
     "execution_count": 44,
     "metadata": {},
     "output_type": "execute_result"
    }
   ],
   "source": [
    "## printing local R-squared \n",
    "lcl_r2 = result.localR2\n",
    "lcl_r2"
   ]
  },
  {
   "cell_type": "code",
   "execution_count": 45,
   "id": "0c279e4e",
   "metadata": {},
   "outputs": [
    {
     "data": {
      "text/plain": [
       "array([[0.        , 0.        , 0.        , 0.        , 0.        ,\n",
       "        0.        ],\n",
       "       [6.26913519, 4.04477082, 3.79964624, 0.        , 0.        ,\n",
       "        0.        ],\n",
       "       [0.        , 0.        , 0.        , 0.        , 0.        ,\n",
       "        0.        ],\n",
       "       ...,\n",
       "       [0.        , 0.        , 0.        , 0.        , 0.        ,\n",
       "        0.        ],\n",
       "       [0.        , 0.        , 0.        , 0.        , 0.        ,\n",
       "        0.        ],\n",
       "       [0.        , 0.        , 0.        , 0.        , 0.        ,\n",
       "        0.        ]])"
      ]
     },
     "execution_count": 45,
     "metadata": {},
     "output_type": "execute_result"
    }
   ],
   "source": [
    "## constracting hypothesis test \n",
    "filter_tvalue = result.filter_tvals()\n",
    "filter_tvalue"
   ]
  },
  {
   "cell_type": "code",
   "execution_count": 46,
   "id": "2eaf0670",
   "metadata": {},
   "outputs": [
    {
     "data": {
      "text/plain": [
       "array([[ 0.        ,  0.        ,  2.48168059,  0.        ,  0.        ,\n",
       "         0.        ],\n",
       "       [ 6.26913519,  4.04477082,  3.79964624, -3.12701071,  0.        ,\n",
       "        -2.52198576],\n",
       "       [ 0.        ,  0.        ,  2.82962071,  0.        ,  0.        ,\n",
       "         0.        ],\n",
       "       ...,\n",
       "       [ 0.        ,  0.        ,  0.        ,  0.        ,  0.        ,\n",
       "         0.        ],\n",
       "       [ 0.        ,  0.        ,  0.        ,  0.        ,  0.        ,\n",
       "         0.        ],\n",
       "       [ 0.        ,  0.        ,  0.        ,  0.        ,  0.        ,\n",
       "         0.        ]])"
      ]
     },
     "execution_count": 46,
     "metadata": {},
     "output_type": "execute_result"
    }
   ],
   "source": [
    "# filter t values with 95% confidence interval\n",
    "filter_95 = result.filter_tvals(alpha=0.05) \n",
    "filter_95"
   ]
  },
  {
   "cell_type": "code",
   "execution_count": null,
   "id": "56f8ebc6",
   "metadata": {},
   "outputs": [],
   "source": []
  }
 ],
 "metadata": {
  "kernelspec": {
   "display_name": "Python 3 (ipykernel)",
   "language": "python",
   "name": "python3"
  },
  "language_info": {
   "codemirror_mode": {
    "name": "ipython",
    "version": 3
   },
   "file_extension": ".py",
   "mimetype": "text/x-python",
   "name": "python",
   "nbconvert_exporter": "python",
   "pygments_lexer": "ipython3",
   "version": "3.9.12"
  }
 },
 "nbformat": 4,
 "nbformat_minor": 5
}
