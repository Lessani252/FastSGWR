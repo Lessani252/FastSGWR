{
 "cells": [
  {
   "cell_type": "code",
   "execution_count": null,
   "id": "37ea1d5f",
   "metadata": {},
   "outputs": [],
   "source": [
    "Running the model in serial model using adaptive bisquare "
   ]
  },
  {
   "cell_type": "code",
   "execution_count": 5,
   "id": "76f4bf91",
   "metadata": {},
   "outputs": [
    {
     "name": "stdout",
     "output_type": "stream",
     "text": [
      "Bandwidth optimization using golden section based on AICc values...\n",
      "BW: 43.258 >>> AICc Score: 7302.231\n",
      "BW: 69.986 >>> AICc Score: 7336.605\n",
      "BW: 26.739 >>> AICc Score: 7222.670\n",
      "BW: 16.529 >>> AICc Score: 7072.016\n",
      "BW: 10.220 >>> AICc Score: 6867.326\n",
      "BW: 6.320 >>> AICc Score: 6554.055\n",
      "BW: 3.910 >>> AICc Score: 6350.290\n",
      "BW: 2.420 >>> AICc Score: 6176.006\n",
      "BW: 1.500 >>> AICc Score: 5977.212\n",
      "BW: 0.931 >>> AICc Score: 5583.038\n",
      "BW: 0.579 >>> AICc Score: 5812.896\n",
      "BW: 1.148 >>> AICc Score: 5839.988\n",
      "BW: 0.796 >>> AICc Score: 5513.583\n",
      "BW: 0.713 >>> AICc Score: 5562.526\n",
      "BW: 0.848 >>> AICc Score: 5517.769\n",
      "BW: 0.765 >>> AICc Score: 5523.877\n",
      "BW: 0.816 >>> AICc Score: 5511.952\n",
      "BW: 0.828 >>> AICc Score: 5512.897\n",
      "BW: 0.808 >>> AICc Score: 5512.128\n",
      "BW: 0.821 >>> AICc Score: 5512.169\n",
      "BW: 0.813 >>> AICc Score: 5511.943\n",
      "BW: 0.811 >>> AICc Score: 5511.987\n",
      "BW: 0.814 >>> AICc Score: 5511.936\n",
      "BW: 0.815 >>> AICc Score: 5511.939\n",
      "BW: 0.814 >>> AICc Score: 5511.936\n",
      "\n",
      "Optimal BW: 0.814\n",
      "\n",
      "Alpha optimization using bandwidth: 0.814\n",
      "\n",
      "Alpha: 0.700 >>> AICc Score: 5362.842\n",
      "Alpha: 0.500 >>> AICc Score: 5237.226\n",
      "Alpha: 0.100 >>> AICc Score: 5365.122\n",
      "Alpha: 0.400 >>> AICc Score: 5161.528\n",
      "Alpha: 0.300 >>> AICc Score: 5079.632\n",
      "Alpha: 0.200 >>> AICc Score: 5026.102\n",
      "\n",
      "Best alpha value (divide and conquer): 0.2\n",
      "Optimized alpha 0.2\n",
      "BW: 0.814\n",
      "R2  0.9162128348084846\n",
      "Adjusted R2:  0.8572038711426877\n",
      "AICc  5025.707765191232\n",
      "RSS [ 2.92972320e-02 -3.02869688e-01 -2.36337737e-04 ... -6.98104535e-03\n",
      " -1.75801552e-03 -4.51164358e-03]\n",
      "BIC 10358.529664709782\n"
     ]
    }
   ],
   "source": [
    "from sgwr import ALPHA, SGWR, fastsgwr\n",
    "import pandas as pd\n",
    "from sklearn.preprocessing import StandardScaler\n",
    "import numpy as np\n",
    "import time\n",
    "\n",
    "\n",
    "sart_t = datetime.datetime.now()\n",
    "data = pd.read_csv(r\"\\Crime.csv\")\n",
    "columns = data.columns[3:]\n",
    "\n",
    "data = np.array(data)\n",
    "\n",
    "x_x = data[0:, 0]  # x coordinate\n",
    "y_y = data[0:, 1]  # y coordiante\n",
    "\n",
    "g_x = data[0:, 3:]\n",
    "g_y = data[0:, 2].reshape(-1, 1)\n",
    "\n",
    "g_x = np.array(g_x, dtype=float)\n",
    "g_y = np.array(g_y, dtype=float)\n",
    "\n",
    "## If you decide to standardize your data. If you don't want to standardize it, just uncommand this part\n",
    "scaler_x = StandardScaler()\n",
    "scaler_y = StandardScaler()\n",
    "g_x = scaler_x.fit_transform(g_x)\n",
    "g_y = scaler_y.fit_transform(g_y)\n",
    "#######\n",
    "\n",
    "x_x = pd.Series(x_x)\n",
    "y_y = pd.Series(y_y)\n",
    "\n",
    "g_coords = np.column_stack((x_x, y_y))\n",
    "\n",
    "data = data[0:, 3:]    \n",
    "data = pd.DataFrame(data)\n",
    "\n",
    "selector = ALPHA(g_coords, g_y, g_x, data)\n",
    "bw, alpha = selector.fit()\n",
    "print('Optimized alpha', alpha)\n",
    "print('BW:', bw)\n",
    "\n",
    "sgwr_model = SGWR(g_coords, g_y, g_x, bw, data, alpha)\n",
    "result = sgwr_model.fit()\n",
    "\n",
    "print('R2 ', result.R2)\n",
    "print('Adjusted R2: ', result.adj_R2)\n",
    "print('AICc ', result.aicc)"
   ]
  },
  {
   "cell_type": "code",
   "execution_count": null,
   "id": "a0293fc1",
   "metadata": {},
   "outputs": [],
   "source": []
  },
  {
   "cell_type": "code",
   "execution_count": null,
   "id": "dc435131",
   "metadata": {},
   "outputs": [],
   "source": [
    "Running the model in serial model using fixed gaussian kernel"
   ]
  },
  {
   "cell_type": "code",
   "execution_count": null,
   "id": "09f75148",
   "metadata": {},
   "outputs": [],
   "source": [
    "from sgwr import ALPHA, SGWR, fastsgwr\n",
    "import pandas as pd\n",
    "from sklearn.preprocessing import StandardScaler\n",
    "import numpy as np\n",
    "import time\n",
    "\n",
    "\n",
    "sart_t = datetime.datetime.now()\n",
    "data = pd.read_csv(r\"\\Crime.csv\")\n",
    "columns = data.columns[3:]\n",
    "\n",
    "data = np.array(data)\n",
    "\n",
    "x_x = data[0:, 0]  # x coordinate\n",
    "y_y = data[0:, 1]  # y coordiante\n",
    "\n",
    "g_x = data[0:, 3:]\n",
    "g_y = data[0:, 2].reshape(-1, 1)\n",
    "\n",
    "g_x = np.array(g_x, dtype=float)\n",
    "g_y = np.array(g_y, dtype=float)\n",
    "\n",
    "## If you decide to standardize your data. If you don't want to standardize it, just uncommand this part\n",
    "scaler_x = StandardScaler()\n",
    "scaler_y = StandardScaler()\n",
    "g_x = scaler_x.fit_transform(g_x)\n",
    "g_y = scaler_y.fit_transform(g_y)\n",
    "#######\n",
    "\n",
    "x_x = pd.Series(x_x)\n",
    "y_y = pd.Series(y_y)\n",
    "\n",
    "g_coords = np.column_stack((x_x, y_y))\n",
    "\n",
    "data = data[0:, 3:]    \n",
    "data = pd.DataFrame(data)\n",
    "\n",
    "selector = ALPHA(g_coords, g_y, g_x, data, fixed=True, kernel='gaussian')\n",
    "bw, alpha = selector.fit()\n",
    "print('Optimized alpha', alpha)\n",
    "print('BW:', bw)\n",
    "\n",
    "sgwr_model = SGWR(g_coords, g_y, g_x, bw, data, alpha, fixed=True, kernel='gaussian')\n",
    "result = sgwr_model.fit()\n",
    "\n",
    "print('R2 ', result.R2)\n",
    "print('Adjusted R2: ', result.adj_R2)\n",
    "print('AICc ', result.aicc)"
   ]
  },
  {
   "cell_type": "code",
   "execution_count": null,
   "id": "002b9fe6",
   "metadata": {},
   "outputs": [],
   "source": []
  },
  {
   "cell_type": "code",
   "execution_count": 6,
   "id": "34736069",
   "metadata": {},
   "outputs": [
    {
     "data": {
      "text/plain": [
       "array([[-1.39774765e-01, -2.81889632e+00,  1.50777886e+00,\n",
       "        -2.37818696e-01,  1.22735389e-01, -2.07965361e-01],\n",
       "       [ 1.28040487e+00,  9.66352239e+00,  3.82996578e+00,\n",
       "        -1.87443754e+00,  1.18229530e+00, -9.84457369e-01],\n",
       "       [-2.88583752e-03, -3.05582176e+00,  2.02391065e+00,\n",
       "        -4.89615929e-01, -2.68660147e-02,  2.07972543e-01],\n",
       "       ...,\n",
       "       [ 7.71672698e-02, -3.67065508e+00,  1.61570837e+00,\n",
       "         1.06981989e+00,  3.34928398e-01, -3.57726092e-01],\n",
       "       [-7.12521247e-02, -1.45671994e+00,  1.12498975e+00,\n",
       "        -1.76630199e-01,  5.71042288e-01,  4.78520092e-02],\n",
       "       [ 1.32038777e-01, -1.77497016e+00,  7.99119276e-01,\n",
       "         1.44264943e+00, -5.63207198e-02, -2.46938243e-02]])"
      ]
     },
     "execution_count": 6,
     "metadata": {},
     "output_type": "execute_result"
    }
   ],
   "source": [
    "## Once the model is fit, you can extract the coef for your data using the below command. \n",
    "result.params"
   ]
  },
  {
   "cell_type": "code",
   "execution_count": 98,
   "id": "0f8695e1",
   "metadata": {},
   "outputs": [
    {
     "name": "stdout",
     "output_type": "stream",
     "text": [
      "===========================================================================\n",
      "Model type                                                         Gaussian\n",
      "Number of observations:                                                2841\n",
      "Number of covariates:                                                     6\n",
      "\n",
      "Global Regression Results\n",
      "---------------------------------------------------------------------------\n",
      "Residual sum of squares:                                           2207.531\n",
      "Log-likelihood:                                                   -3672.838\n",
      "AIC:                                                               7357.677\n",
      "AICc:                                                              7359.717\n",
      "BIC:                                                             -20336.138\n",
      "R2:                                                                   0.223\n",
      "Adj. R2:                                                              0.222\n",
      "\n",
      "Variable                              Est.         SE  t(Est/SE)    p-value\n",
      "------------------------------- ---------- ---------- ---------- ----------\n",
      "X0                                   0.000      0.017      0.000      1.000\n",
      "X1                                  -0.233      0.026     -8.903      0.000\n",
      "X2                                   0.698      0.034     20.397      0.000\n",
      "X3                                  -0.045      0.029     -1.546      0.122\n",
      "X4                                   0.010      0.022      0.431      0.666\n",
      "X5                                  -0.114      0.020     -5.590      0.000\n",
      "\n",
      "Similarity and Geographically Weighted Regression (GWR) Results\n",
      "---------------------------------------------------------------------------\n",
      "Spatial kernel:                                          Fixed gaussian\n",
      "Bandwidth used:                                                       0.814\n",
      "\n",
      "Diagnostic information\n",
      "---------------------------------------------------------------------------\n",
      "Residual sum of squares:                                            243.631\n",
      "Effective number of parameters (trace(S)):                         1162.191\n",
      "Degree of freedom (n - trace(S)):                                  1678.809\n",
      "Sigma estimate:                                                       0.381\n",
      "Log-likelihood:                                                    -542.090\n",
      "AIC:                                                               3410.563\n",
      "AICc:                                                              5025.747\n",
      "BIC:                                                              10333.775\n",
      "R2:                                                                   0.914\n",
      "Adjusted R2:                                                          0.855\n",
      "Adj. alpha (95%):                                                     0.000\n",
      "Adj. critical t value (95%):                                          3.659\n",
      "\n",
      "Summary Statistics For SGWR Parameter Estimates\n",
      "---------------------------------------------------------------------------\n",
      "Variable                   Mean        STD        Min     Median        Max\n",
      "-------------------- ---------- ---------- ---------- ---------- ----------\n",
      "X0                       -0.256      1.267    -28.126     -0.186      8.052\n",
      "X1                       -2.040      5.850    -31.077     -1.438     31.652\n",
      "X2                        1.174      1.244     -3.054      0.950     12.262\n",
      "X3                       -0.633      6.196   -139.259     -0.220     26.890\n",
      "X4                        0.152      0.413     -1.690      0.138      5.348\n",
      "X5                       -0.216      1.464    -15.980     -0.042      7.354\n",
      "===========================================================================\n",
      "\n"
     ]
    }
   ],
   "source": [
    "## summary table of the model \n",
    "result.summary()"
   ]
  },
  {
   "cell_type": "code",
   "execution_count": 100,
   "id": "6a1e7993",
   "metadata": {},
   "outputs": [
    {
     "name": "stdout",
     "output_type": "stream",
     "text": [
      "[[0.93380447]\n",
      " [0.92368197]\n",
      " [0.91803074]\n",
      " ...\n",
      " [0.90635788]\n",
      " [0.99187591]\n",
      " [0.9906056 ]]\n"
     ]
    }
   ],
   "source": [
    "## printing local R-squared \n",
    "lcl_r2 = result.localR2\n",
    "lcl_r2"
   ]
  },
  {
   "cell_type": "code",
   "execution_count": 101,
   "id": "0c279e4e",
   "metadata": {},
   "outputs": [
    {
     "data": {
      "text/plain": [
       "array([[0.        , 0.        , 0.        , 0.        , 0.        ,\n",
       "        0.        ],\n",
       "       [6.21938574, 4.0116945 , 3.76752806, 0.        , 0.        ,\n",
       "        0.        ],\n",
       "       [0.        , 0.        , 0.        , 0.        , 0.        ,\n",
       "        0.        ],\n",
       "       ...,\n",
       "       [0.        , 0.        , 0.        , 0.        , 0.        ,\n",
       "        0.        ],\n",
       "       [0.        , 0.        , 0.        , 0.        , 0.        ,\n",
       "        0.        ],\n",
       "       [0.        , 0.        , 0.        , 0.        , 0.        ,\n",
       "        0.        ]])"
      ]
     },
     "execution_count": 101,
     "metadata": {},
     "output_type": "execute_result"
    }
   ],
   "source": [
    "## constracting hypothesis test \n",
    "filter_tvalue = result.filter_tvals()\n",
    "filter_tvalue"
   ]
  },
  {
   "cell_type": "code",
   "execution_count": 102,
   "id": "2eaf0670",
   "metadata": {},
   "outputs": [
    {
     "data": {
      "text/plain": [
       "array([[ 0.        ,  0.        ,  2.4614197 ,  0.        ,  0.        ,\n",
       "         0.        ],\n",
       "       [ 6.21938574,  4.0116945 ,  3.76752806, -3.09646716,  0.        ,\n",
       "        -2.49496668],\n",
       "       [ 0.        ,  0.        ,  2.80665245,  0.        ,  0.        ,\n",
       "         0.        ],\n",
       "       ...,\n",
       "       [ 0.        ,  0.        ,  0.        ,  0.        ,  0.        ,\n",
       "         0.        ],\n",
       "       [ 0.        ,  0.        ,  0.        ,  0.        ,  0.        ,\n",
       "         0.        ],\n",
       "       [ 0.        ,  0.        ,  0.        ,  0.        ,  0.        ,\n",
       "         0.        ]])"
      ]
     },
     "execution_count": 102,
     "metadata": {},
     "output_type": "execute_result"
    }
   ],
   "source": [
    "# filter t values with 95% confidence interval\n",
    "filter_95 = result.filter_tvals(alpha=0.05) \n",
    "filter_95"
   ]
  }
 ],
 "metadata": {
  "kernelspec": {
   "display_name": "Python 3 (ipykernel)",
   "language": "python",
   "name": "python3"
  },
  "language_info": {
   "codemirror_mode": {
    "name": "ipython",
    "version": 3
   },
   "file_extension": ".py",
   "mimetype": "text/x-python",
   "name": "python",
   "nbconvert_exporter": "python",
   "pygments_lexer": "ipython3",
   "version": "3.9.12"
  }
 },
 "nbformat": 4,
 "nbformat_minor": 5
}
